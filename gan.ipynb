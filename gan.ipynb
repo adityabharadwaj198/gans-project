{
 "cells": [
  {
   "cell_type": "code",
   "execution_count": 6,
   "metadata": {},
   "outputs": [],
   "source": [
    "import time\n",
    "import numpy as np\n",
    "import pylab as pl\n",
    "\n",
    "from IPython import display"
   ]
  },
  {
   "cell_type": "code",
   "execution_count": 7,
   "metadata": {},
   "outputs": [],
   "source": [
    "import torch\n",
    "import torch.nn as nn\n",
    "import torch.optim as optim\n",
    "\n",
    "from torch.autograd import Variable\n",
    "from torch.utils.data import DataLoader\n",
    "from torchvision import datasets, transforms\n"
   ]
  },
  {
   "cell_type": "code",
   "execution_count": 8,
   "metadata": {},
   "outputs": [],
   "source": [
    "compose = transforms.Compose(\n",
    "        [transforms.ToTensor(),\n",
    "         transforms.Normalize([0.5], [0.5])\n",
    "        ])\n"
   ]
  },
  {
   "cell_type": "code",
   "execution_count": 9,
   "metadata": {},
   "outputs": [],
   "source": [
    "train_data = datasets.MNIST(root=\"./mnist_data/\", train=True, transform=compose, download=True)\n",
    "test_data = datasets.MNIST(root=\"./mnist_data/\", train=False, transform=compose, download=True)\n"
   ]
  },
  {
   "cell_type": "code",
   "execution_count": 10,
   "metadata": {},
   "outputs": [
    {
     "data": {
      "text/plain": [
       "Dataset MNIST\n",
       "    Number of datapoints: 60000\n",
       "    Split: train\n",
       "    Root Location: ./mnist_data/\n",
       "    Transforms (if any): Compose(\n",
       "                             ToTensor()\n",
       "                             Normalize(mean=[0.5], std=[0.5])\n",
       "                         )\n",
       "    Target Transforms (if any): None"
      ]
     },
     "execution_count": 10,
     "metadata": {},
     "output_type": "execute_result"
    }
   ],
   "source": [
    "train_data"
   ]
  },
  {
   "cell_type": "code",
   "execution_count": 11,
   "metadata": {},
   "outputs": [],
   "source": [
    "train_load = DataLoader(dataset=train_data, batch_size=128, shuffle=True)\n",
    "test_load = DataLoader(dataset=test_data, batch_size=128, shuffle=False)\n"
   ]
  },
  {
   "cell_type": "code",
   "execution_count": 12,
   "metadata": {},
   "outputs": [
    {
     "data": {
      "text/plain": [
       "<torch.utils.data.dataloader.DataLoader at 0x7f56d7b39cc0>"
      ]
     },
     "execution_count": 12,
     "metadata": {},
     "output_type": "execute_result"
    }
   ],
   "source": [
    "train_load"
   ]
  },
  {
   "cell_type": "code",
   "execution_count": 13,
   "metadata": {},
   "outputs": [
    {
     "name": "stdout",
     "output_type": "stream",
     "text": [
      "Image shape: (28, 28)\n"
     ]
    },
    {
     "data": {
      "image/png": "[encoded data removed]",
      "text/plain": [
       "<Figure size 432x288 with 9 Axes>"
      ]
     },
     "metadata": {
      "needs_background": "light"
     },
     "output_type": "display_data"
    },
    {
     "name": "stdout",
     "output_type": "stream",
     "text": [
      "Predictions : [array(1), array(1), array(1), array(6), array(4), array(8), array(6), array(6), array(1)]\n"
     ]
    }
   ],
   "source": [
    "pred = []\n",
    "for i, data in enumerate(train_load):\n",
    "    pl.subplot(3, 3, i+1)\n",
    "    img = data[0][i].data.numpy()\n",
    "    img = np.squeeze(img)\n",
    "    pl.imshow(img, cmap='gray')\n",
    "    pred.append(data[1][i].data.numpy())\n",
    "    if i+1 == 9:\n",
    "        print(\"Image shape: \" + str(img.shape))\n",
    "        break\n",
    "pl.show()\n",
    "print(\"Predictions : \" + str(pred))\n"
   ]
  },
  {
   "cell_type": "code",
   "execution_count": 16,
   "metadata": {},
   "outputs": [],
   "source": [
    "class Discriminator(nn.Module):\n",
    "    def __init__(self):\n",
    "        super(Discriminator, self).__init__()\n",
    "        self.layer1 = nn.Sequential(nn.Linear(784, 512),\n",
    "                                    nn.LeakyReLU(0.2))\n",
    "        \n",
    "        self.layer2 = nn.Sequential(nn.Linear(512, 256),\n",
    "                                    nn.LeakyReLU(0.2),\n",
    "                                    nn.Dropout(0.3))\n",
    "        \n",
    "        self.layer3 = nn.Sequential(nn.Linear(256, 1),\n",
    "                                    nn.Sigmoid())\n",
    "        \n",
    "    def forward(self, x):\n",
    "        x = x.view(-1, 784)\n",
    "        x = self.layer1(x)\n",
    "        x = self.layer2(x)\n",
    "        x = self.layer3(x)\n",
    "        \n",
    "        return x"
   ]
  },
  {
   "cell_type": "code",
   "execution_count": 17,
   "metadata": {},
   "outputs": [
    {
     "data": {
      "text/plain": [
       "Discriminator(\n",
       "  (layer1): Sequential(\n",
       "    (0): Linear(in_features=784, out_features=512, bias=True)\n",
       "    (1): LeakyReLU(negative_slope=0.2)\n",
       "  )\n",
       "  (layer2): Sequential(\n",
       "    (0): Linear(in_features=512, out_features=256, bias=True)\n",
       "    (1): LeakyReLU(negative_slope=0.2)\n",
       "    (2): Dropout(p=0.3)\n",
       "  )\n",
       "  (layer3): Sequential(\n",
       "    (0): Linear(in_features=256, out_features=1, bias=True)\n",
       "    (1): Sigmoid()\n",
       "  )\n",
       ")"
      ]
     },
     "execution_count": 17,
     "metadata": {},
     "output_type": "execute_result"
    }
   ],
   "source": [
    "Discriminator()\n"
   ]
  },
  {
   "cell_type": "code",
   "execution_count": 18,
   "metadata": {},
   "outputs": [],
   "source": [
    "class Generator(nn.Module):\n",
    "    def __init__(self):\n",
    "        super(Generator, self).__init__()\n",
    "        self.layer1 = nn.Sequential(nn.Linear(100, 256),\n",
    "                                    nn.LeakyReLU(0.2))\n",
    "        \n",
    "        self.layer2 = nn.Sequential(nn.Linear(256, 512),\n",
    "                                    nn.LeakyReLU(0.2))\n",
    "        \n",
    "        self.layer3 = nn.Sequential(nn.Linear(512, 784),\n",
    "                                    nn.Tanh())\n",
    "        \n",
    "    def forward(self, x):\n",
    "        x = self.layer1(x)\n",
    "        x = self.layer2(x)\n",
    "        x = self.layer3(x)\n",
    "        \n",
    "        return x\n"
   ]
  },
  {
   "cell_type": "code",
   "execution_count": 19,
   "metadata": {},
   "outputs": [
    {
     "data": {
      "text/plain": [
       "Generator(\n",
       "  (layer1): Sequential(\n",
       "    (0): Linear(in_features=100, out_features=256, bias=True)\n",
       "    (1): LeakyReLU(negative_slope=0.2)\n",
       "  )\n",
       "  (layer2): Sequential(\n",
       "    (0): Linear(in_features=256, out_features=512, bias=True)\n",
       "    (1): LeakyReLU(negative_slope=0.2)\n",
       "  )\n",
       "  (layer3): Sequential(\n",
       "    (0): Linear(in_features=512, out_features=784, bias=True)\n",
       "    (1): Tanh()\n",
       "  )\n",
       ")"
      ]
     },
     "execution_count": 19,
     "metadata": {},
     "output_type": "execute_result"
    }
   ],
   "source": [
    "Generator()\n"
   ]
  },
  {
   "cell_type": "code",
   "execution_count": 20,
   "metadata": {},
   "outputs": [
    {
     "name": "stdout",
     "output_type": "stream",
     "text": [
      "Discriminator parameters : 533505\n",
      "Generator parameters : 559632\n"
     ]
    }
   ],
   "source": [
    "disc = Discriminator()\n",
    "gen = Generator()\n",
    "\n",
    "criterion = nn.BCELoss()\n",
    "optimizer_gen = optim.Adam(gen.parameters(), lr = 0.0001)\n",
    "optimizer_disc = optim.Adam(disc.parameters(), lr = 0.0001)\n",
    "\n",
    "total_params = sum(p.numel() for p in disc.parameters() if p.requires_grad)\n",
    "print(\"Discriminator parameters : {}\".format(total_params))\n",
    "\n",
    "total_params = sum(p.numel() for p in gen.parameters() if p.requires_grad)\n",
    "print(\"Generator parameters : {}\".format(total_params))\n"
   ]
  },
  {
   "cell_type": "code",
   "execution_count": 21,
   "metadata": {},
   "outputs": [],
   "source": [
    "def train_disc(real_imgs, fake_imgs, real_labels, fake_labels):\n",
    "    disc.train()\n",
    "    optimizer_disc.zero_grad()\n",
    "    \n",
    "    real_outputs = disc(real_imgs)\n",
    "    real_loss = criterion(real_outputs, real_labels)\n",
    "    \n",
    "    fake_outputs = disc(fake_imgs)\n",
    "    fake_loss = criterion(fake_outputs, fake_labels)\n",
    "    \n",
    "    loss = real_loss + fake_loss\n",
    "    \n",
    "    loss.backward()\n",
    "    optimizer_disc.step()\n",
    "    \n",
    "    return loss\n"
   ]
  },
  {
   "cell_type": "code",
   "execution_count": 22,
   "metadata": {},
   "outputs": [],
   "source": [
    "def train_gen(fake_inputs, real_labels):\n",
    "    gen.train()\n",
    "    optimizer_gen.zero_grad()\n",
    "    \n",
    "    outputs = disc(fake_inputs)\n",
    "    \n",
    "    gen_loss = criterion(outputs, real_labels)\n",
    "    \n",
    "    gen_loss.backward()\n",
    "    optimizer_gen.step()\n",
    "    \n",
    "    return gen_loss\n"
   ]
  },
  {
   "cell_type": "code",
   "execution_count": 23,
   "metadata": {},
   "outputs": [
    {
     "data": {
      "image/png": "[encoded data removed]",
      "text/plain": [
       "<Figure size 432x288 with 1 Axes>"
      ]
     },
     "metadata": {
      "needs_background": "light"
     },
     "output_type": "display_data"
    }
   ],
   "source": [
    "noise = Variable(torch.randn(100))\n",
    "fake_imgs = gen(noise)\n",
    "img = fake_imgs.view(1, 28, 28).data.numpy()\n",
    "img = np.squeeze(img)\n",
    "pl.imshow(img, cmap='gray')\n",
    "pl.show()\n"
   ]
  },
  {
   "cell_type": "code",
   "execution_count": 28,
   "metadata": {
    "scrolled": true
   },
   "outputs": [
    {
     "name": "stdout",
     "output_type": "stream",
     "text": [
      "Epoch : 9 Step : 468 Discriminator Loss : 0.2078033685684204 Generator Loss : 3.9224488735198975\n"
     ]
    },
    {
     "data": {
      "image/png": "[encoded data removed]",
      "text/plain": [
       "<Figure size 432x288 with 1 Axes>"
      ]
     },
     "metadata": {
      "needs_background": "light"
     },
     "output_type": "display_data"
    }
   ],
   "source": [
    "epochs = 10\n",
    "\n",
    "for epoch in range(epochs):\n",
    "    for i, data in enumerate(train_load):\n",
    "        real_imgs, _ = data\n",
    "\n",
    "        disc_noise = Variable(torch.randn(real_imgs.size(0), 100), requires_grad = False)\n",
    "\n",
    "        fake_imgs = gen(disc_noise).detach()\n",
    "\n",
    "        real_labels = Variable(torch.ones(real_imgs.size(0)), requires_grad = False)\n",
    "        fake_labels = Variable(torch.zeros(real_imgs.size(0)), requires_grad = False)\n",
    "\n",
    "        disc_loss = train_disc(Variable(real_imgs), fake_imgs, real_labels, fake_labels)\n",
    "\n",
    "        gen_noise = Variable(torch.randn(real_imgs.size(0), 100), requires_grad = False)\n",
    "\n",
    "        gen_img = gen(gen_noise)\n",
    "\n",
    "        g_loss = train_gen(gen_img, real_labels)\n",
    "    \n",
    "        if i%100 == 0:\n",
    "            img = gen_img[0].view(1, 28, 28).data.numpy()\n",
    "            img = np.squeeze(img)\n",
    "            pl.imshow(img, cmap='gray')\n",
    "            display.clear_output(wait=True)\n",
    "            display.display(pl.gcf())\n",
    "            print(\"Epoch : {} Step : {} Discriminator Loss : {} Generator Loss : {}\".format(epoch, i, disc_loss, g_loss))\n",
    "            \n",
    "    display.clear_output(wait=True)\n",
    "    print(\"Epoch : {} Step : {} Discriminator Loss : {} Generator Loss : {}\".format(epoch, i, disc_loss, g_loss))\n"
   ]
  },
  {
   "cell_type": "code",
   "execution_count": 30,
   "metadata": {
    "scrolled": true
   },
   "outputs": [
    {
     "data": {
      "image/png": "[encoded data removed]",
      "text/plain": [
       "<Figure size 432x288 with 9 Axes>"
      ]
     },
     "metadata": {
      "needs_background": "light"
     },
     "output_type": "display_data"
    }
   ],
   "source": [
    "for k in range(9):\n",
    "    pl.subplot(3, 3, k+1)\n",
    "    disc_noise = Variable(torch.randn(100))\n",
    "    fake_imgs = gen(disc_noise)\n",
    "    img = fake_imgs.view(1, 28, 28).data.numpy()\n",
    "    img = np.squeeze(img)\n",
    "    pl.imshow(img, cmap='gray')  \n",
    "pl.show()\n"
   ]
  },
  {
   "cell_type": "code",
   "execution_count": null,
   "metadata": {},
   "outputs": [],
   "source": []
  }
 ],
 "metadata": {
  "kernelspec": {
   "display_name": "Python 3",
   "language": "python",
   "name": "python3"
  },
  "language_info": {
   "codemirror_mode": {
    "name": "ipython",
    "version": 3
   },
   "file_extension": ".py",
   "mimetype": "text/x-python",
   "name": "python",
   "nbconvert_exporter": "python",
   "pygments_lexer": "ipython3",
   "version": "3.7.2"
  }
 },
 "nbformat": 4,
 "nbformat_minor": 2
}
